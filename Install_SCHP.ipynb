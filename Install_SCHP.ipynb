{
 "cells": [
  {
   "cell_type": "code",
   "execution_count": 1,
   "id": "571c6661",
   "metadata": {},
   "outputs": [],
   "source": [
    "# !git clone https://github.com/levindabhi/Self-Correction-Human-Parsing-for-ACGPN.git"
   ]
  },
  {
   "cell_type": "code",
   "execution_count": 2,
   "id": "e2a89860",
   "metadata": {
    "scrolled": true
   },
   "outputs": [
    {
     "name": "stdout",
     "output_type": "stream",
     "text": [
      "Collecting gdown\n",
      "  Downloading gdown-4.7.1-py3-none-any.whl (15 kB)\n",
      "Requirement already satisfied: tqdm in /opt/conda/lib/python3.9/site-packages (from gdown) (4.62.3)\n",
      "Requirement already satisfied: filelock in /opt/conda/lib/python3.9/site-packages (from gdown) (3.4.0)\n",
      "Requirement already satisfied: six in /opt/conda/lib/python3.9/site-packages (from gdown) (1.16.0)\n",
      "Requirement already satisfied: requests[socks] in /opt/conda/lib/python3.9/site-packages (from gdown) (2.26.0)\n",
      "Requirement already satisfied: beautifulsoup4 in /opt/conda/lib/python3.9/site-packages (from gdown) (4.6.0)\n",
      "Requirement already satisfied: urllib3<1.27,>=1.21.1 in /opt/conda/lib/python3.9/site-packages (from requests[socks]->gdown) (1.26.7)\n",
      "Requirement already satisfied: idna<4,>=2.5 in /opt/conda/lib/python3.9/site-packages (from requests[socks]->gdown) (2.10)\n",
      "Requirement already satisfied: charset-normalizer~=2.0.0 in /opt/conda/lib/python3.9/site-packages (from requests[socks]->gdown) (2.0.8)\n",
      "Requirement already satisfied: certifi>=2017.4.17 in /opt/conda/lib/python3.9/site-packages (from requests[socks]->gdown) (2021.10.8)\n",
      "Requirement already satisfied: PySocks!=1.5.7,>=1.5.6 in /opt/conda/lib/python3.9/site-packages (from requests[socks]->gdown) (1.7.1)\n",
      "Installing collected packages: gdown\n",
      "Successfully installed gdown-4.7.1\n",
      "\u001b[33mWARNING: Running pip as the 'root' user can result in broken permissions and conflicting behaviour with the system package manager. It is recommended to use a virtual environment instead: https://pip.pypa.io/warnings/venv\u001b[0m\n",
      "Note: you may need to restart the kernel to use updated packages.\n"
     ]
    }
   ],
   "source": [
    "pip install gdown"
   ]
  },
  {
   "cell_type": "code",
   "execution_count": 3,
   "id": "4fe175ba",
   "metadata": {},
   "outputs": [
    {
     "name": "stdout",
     "output_type": "stream",
     "text": [
      "Collecting Ninja\n",
      "  Downloading ninja-1.11.1-py2.py3-none-manylinux_2_12_x86_64.manylinux2010_x86_64.whl (145 kB)\n",
      "     |████████████████████████████████| 145 kB 7.9 MB/s            \n",
      "\u001b[?25hInstalling collected packages: Ninja\n",
      "Successfully installed Ninja-1.11.1\n",
      "\u001b[33mWARNING: Running pip as the 'root' user can result in broken permissions and conflicting behaviour with the system package manager. It is recommended to use a virtual environment instead: https://pip.pypa.io/warnings/venv\u001b[0m\n",
      "Note: you may need to restart the kernel to use updated packages.\n"
     ]
    }
   ],
   "source": [
    "pip install Ninja"
   ]
  },
  {
   "cell_type": "code",
   "execution_count": null,
   "id": "efb61291",
   "metadata": {},
   "outputs": [],
   "source": []
  },
  {
   "cell_type": "code",
   "execution_count": 4,
   "id": "243a8e7e",
   "metadata": {},
   "outputs": [],
   "source": [
    "#download model at https://github.com/GoGoDuck912/Self-Correction-Human-Parsing\n",
    "# and put .pth into ./checkpoint"
   ]
  },
  {
   "cell_type": "code",
   "execution_count": 9,
   "id": "cf179944",
   "metadata": {},
   "outputs": [],
   "source": [
    "CHECKPOINT_PATH = \"Self-Correction-Human-Parsing-for-ACGPN/checkpoint/exp-schp-201908261155-lip.pth\"\n",
    "# 폴더명을 INPUT_PATH, OUTPUT_PATH 넣어야됨\n",
    "INPUT_PATH = \"Self-Correction-Human-Parsing-for-ACGPN/install_schp_sample_input\"\n",
    "OUTPUT_PATH = \"Self-Correction-Human-Parsing-for-ACGPN/install_schp_sample_output\"\n",
    "DATASET = 'lip'"
   ]
  },
  {
   "cell_type": "code",
   "execution_count": 4,
   "id": "8bf1501b",
   "metadata": {
    "scrolled": false
   },
   "outputs": [
    {
     "name": "stdout",
     "output_type": "stream",
     "text": [
      "100%|█████████████████████████████████████████████| 6/6 [00:00<00:00,  8.80it/s]\n"
     ]
    }
   ],
   "source": [
    "#경로문제 에러, 설정 후 실행해주세요\n",
    "# 밖에서 실행시: viton/Self-Correction-Human-Parsing-for-ACGPN에서 실행\n",
    "# python simple_extractor.py --dataset lip --model-restore checkpoint/exp-schp-201908261155-lip.pth --input-dir install_schp_sample_input --output-dir install_schp_sample_output\n",
    "# run Self-Correction-Human-Parsing-for-ACGPN/simple_extractor.py --dataset DATASET --model-restore CHECKPOINT_PATH --input-dir INPUT_PATH --output-dir OUTPUT_PATH\n",
    "# !python Self-Correction-Human-Parsing-for-ACGPN/simple_extractor.py --dataset DATASET --model-restore CHECKPOINT_PATH --input-dir INPUT_PATH --output-dir OUTPUT_PATH\n",
    "!python Self-Correction-Human-Parsing-for-ACGPN/simple_extractor.py --dataset lip --model-restore Self-Correction-Human-Parsing-for-ACGPN/checkpoint/exp-schp-201908261155-lip.pth --input-dir Self-Correction-Human-Parsing-for-ACGPN/install_schp_sample_input --output-dir Self-Correction-Human-Parsing-for-ACGPN/install_schp_sample_output"
   ]
  },
  {
   "cell_type": "code",
   "execution_count": null,
   "id": "9e123920",
   "metadata": {},
   "outputs": [],
   "source": [
    "# !python Self-Correction-Human-Parsing-for-ACGPN/simple_extractor.py --dataset DATASET --model-restore CHECKPOINT_PATH --input-dir INPUT_PATH --output-dir OUTPUT_PATH\n",
    "# 바로 윗 셀 하드코딩!에 하드코딩 하니까 된다...(모르고 위에도 한번 더 했다.)\n",
    "!python Self-Correction-Human-Parsing-for-ACGPN/simple_extractor.py --dataset lip --model-restore Self-Correction-Human-Parsing-for-ACGPN/checkpoint/exp-schp-201908261155-lip.pth --input-dir Self-Correction-Human-Parsing-for-ACGPN/install_schp_sample_input --output-dir Self-Correction-Human-Parsing-for-ACGPN/install_schp_sample_output"
   ]
  },
  {
   "cell_type": "code",
   "execution_count": 2,
   "id": "bb4dc173",
   "metadata": {},
   "outputs": [
    {
     "data": {
      "text/plain": [
       "'/aiffel/aiffel/a_project/viton'"
      ]
     },
     "execution_count": 2,
     "metadata": {},
     "output_type": "execute_result"
    }
   ],
   "source": [
    "import os\n",
    "os.getcwd()"
   ]
  },
  {
   "cell_type": "code",
   "execution_count": null,
   "id": "2d8e801c",
   "metadata": {},
   "outputs": [],
   "source": []
  }
 ],
 "metadata": {
  "kernelspec": {
   "display_name": "Python 3 (ipykernel)",
   "language": "python",
   "name": "python3"
  },
  "language_info": {
   "codemirror_mode": {
    "name": "ipython",
    "version": 3
   },
   "file_extension": ".py",
   "mimetype": "text/x-python",
   "name": "python",
   "nbconvert_exporter": "python",
   "pygments_lexer": "ipython3",
   "version": "3.9.7"
  }
 },
 "nbformat": 4,
 "nbformat_minor": 5
}
