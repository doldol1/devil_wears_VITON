{
 "cells": [
  {
   "cell_type": "markdown",
   "metadata": {},
   "source": [
    "# ACGPN baseline Installation guide  \n",
    "### by 아이펠톤 The Devil Wears VITON  \n",
    "https://github.com/switchablenorms/DeepFashion_Try_On.git\n",
    "다음 구현을 구동하기 위한 코드입니다\n",
    "\n",
    "~~경덕 추가(2023.03.21): LMS 노드에서 좀 더 쉽게 환경을 복원하기 위해 예전 프로젝트에서 사용하던  \n",
    "백업시: cp -R /opt/conda/envs/* ~/aiffel/conda/envs/  \n",
    "롤백시: cp -R ~/aiffel/conda/envs/* /opt/conda/envs/  \n",
    "을 적용시켜볼 예정.  \n",
    "현재까지 환경 설정을 위해  \n",
    "init_acgpn_org.ipynb  \n",
    "install_detectron2.ipynb  \n",
    "detectron2_visualization_test.ipynb  \n",
    "이 셋에 대하여 실행(schp는 손을 보는 중)시켜 base 환경을 조성해왔다.\n",
    "위의 명령어를 사용하여 백업/롤백하면 base 환경이 저장시켰을 때의 환경으로 복구된다.  \n",
    "(물론 백업/롤백과 무관하게 aiffel폴더에 저장한 데이터와 폴더 구조는 한 번 설치하면 그대로 유지된다.)    \n",
    "여기서 제대로 환경이 복구되었는지 확인하기 위해 실행시킬 것들이 있기 때문에 실행을 통하여 어떤 부분을 확인해야 하는지 적어본다.~~  \n",
    "  \n",
    "~~init_acgpn_org.ipynb 실행 확인 필요:  \n",
    "aiffel/aiffel/a_project/viton/ACGPN_org/ACGPN_inference/test.py  \n",
    "aiffel/aiffel/a_project/viton/ACGPN_org/ACGPN_train/train.py~~  \n",
    "\n",
    "~~install_detectron2.ipynb 실행 확인 필요:  \n",
    "없음~~  \n",
    "  \n",
    "~~detectron2_visualization_test.ipynb  \n",
    "주석 처리 안된 부분 직접 실행(train은 안 돌아가도 된다)~~  \n",
    "  \n",
    "라고 주절거렸으나, base는 가상환경이 아니라 노해당 ㅠㅠ 그냥 ipynb로 실행"
   ]
  },
  {
   "cell_type": "code",
   "execution_count": 1,
   "metadata": {
    "colab": {
     "base_uri": "https://localhost:8080/"
    },
    "id": "JfYRq6ay3WNg",
    "outputId": "6497cf05-61a6-4f96-ced5-804054b476e0"
   },
   "outputs": [],
   "source": [
    "# mkdir \"ACGPN_org\""
   ]
  },
  {
   "cell_type": "code",
   "execution_count": 2,
   "metadata": {
    "id": "97HCJiSGuqn_"
   },
   "outputs": [],
   "source": [
    "# ! git clone https://github.com/switchablenorms/DeepFashion_Try_On.git\n",
    "# git clone 후 DeepFashion_Try_On 폴더의 이름을 ACGPN_org로 바꾼다."
   ]
  },
  {
   "cell_type": "markdown",
   "metadata": {},
   "source": [
    "아래 나오는 폴더명은 inference , train 폴더 안에 개별로 생성됩니다  \n",
    "폴더명 설정은 각각 가지고 있는 option 폴더 내 base_option 파일의 dataroot 항목 수정으로 커스텀할 수 있습니다 "
   ]
  },
  {
   "cell_type": "markdown",
   "metadata": {},
   "source": [
    "위 페이지의 readme에서 받은 데이터셋을 각각 ACGPN_train/Data_preprocessing, ACGPN_inference/Data_preprocessing 으로 옯겨주세요"
   ]
  },
  {
   "cell_type": "code",
   "execution_count": 3,
   "metadata": {},
   "outputs": [],
   "source": [
    "# cd \"/aiffel/aiffel/a_project/viton/ACGPN_org/ACGPN_inference\""
   ]
  },
  {
   "cell_type": "code",
   "execution_count": 4,
   "metadata": {},
   "outputs": [],
   "source": [
    "# cd \"Data_preprocessing\""
   ]
  },
  {
   "cell_type": "code",
   "execution_count": 5,
   "metadata": {
    "id": "6ys65rtZA27X",
    "scrolled": true
   },
   "outputs": [],
   "source": [
    "# !unzip Data_preprocessing.zip"
   ]
  },
  {
   "cell_type": "code",
   "execution_count": 6,
   "metadata": {},
   "outputs": [],
   "source": [
    "# cd .."
   ]
  },
  {
   "cell_type": "code",
   "execution_count": 7,
   "metadata": {},
   "outputs": [],
   "source": [
    "# cd .."
   ]
  },
  {
   "cell_type": "code",
   "execution_count": 8,
   "metadata": {},
   "outputs": [],
   "source": [
    "# cd \"ACGPN_train\""
   ]
  },
  {
   "cell_type": "code",
   "execution_count": 9,
   "metadata": {},
   "outputs": [],
   "source": [
    "# cd \"Data_preprocessing\""
   ]
  },
  {
   "cell_type": "code",
   "execution_count": 10,
   "metadata": {},
   "outputs": [],
   "source": [
    "# !unzip ACGPN_traindata.zip"
   ]
  },
  {
   "cell_type": "markdown",
   "metadata": {},
   "source": [
    "https://github.com/switchablenorms/DeepFashion_Try_On.git  \n",
    "위 페이지의 readme에서 받은 checkpoints.zip을 각각 ACGPN_train/checkpoints , ACGPN_inference/checkpoints로 옯겨주세요"
   ]
  },
  {
   "cell_type": "code",
   "execution_count": 11,
   "metadata": {
    "id": "EvSHZIDrcqXG"
   },
   "outputs": [],
   "source": [
    "# cd .."
   ]
  },
  {
   "cell_type": "code",
   "execution_count": 12,
   "metadata": {},
   "outputs": [],
   "source": [
    "# cd \"checkpoints\""
   ]
  },
  {
   "cell_type": "code",
   "execution_count": 13,
   "metadata": {},
   "outputs": [],
   "source": [
    "# !unzip \"ACGPN_checkpoints.zip\""
   ]
  },
  {
   "cell_type": "code",
   "execution_count": 14,
   "metadata": {},
   "outputs": [],
   "source": [
    "# cd .."
   ]
  },
  {
   "cell_type": "code",
   "execution_count": 15,
   "metadata": {},
   "outputs": [],
   "source": [
    "# cd .."
   ]
  },
  {
   "cell_type": "code",
   "execution_count": 16,
   "metadata": {
    "colab": {
     "base_uri": "https://localhost:8080/"
    },
    "id": "elzYtdzDDA2m",
    "outputId": "0b08ced4-7993-46d7-cf22-593ce9202ffb"
   },
   "outputs": [],
   "source": [
    "# cd \"ACGPN_inference\""
   ]
  },
  {
   "cell_type": "code",
   "execution_count": 17,
   "metadata": {},
   "outputs": [],
   "source": [
    "# cd \"checkpoints\""
   ]
  },
  {
   "cell_type": "code",
   "execution_count": 18,
   "metadata": {},
   "outputs": [],
   "source": [
    "# !unzip \"ACGPN_checkpoints.zip\""
   ]
  },
  {
   "cell_type": "markdown",
   "metadata": {},
   "source": [
    "필요시 dependancy를 설치해주세요"
   ]
  },
  {
   "cell_type": "code",
   "execution_count": 19,
   "metadata": {
    "colab": {
     "base_uri": "https://localhost:8080/"
    },
    "id": "J7q54wEjDO9X",
    "outputId": "eb6dbfab-4342-44b0-9511-3486ee9d8b7a"
   },
   "outputs": [
    {
     "name": "stdout",
     "output_type": "stream",
     "text": [
      "Requirement already satisfied: ipdb in /opt/conda/lib/python3.9/site-packages (0.13.13)\n",
      "Requirement already satisfied: ipython>=7.31.1 in /opt/conda/lib/python3.9/site-packages (from ipdb) (8.12.0)\n",
      "Requirement already satisfied: tomli in /opt/conda/lib/python3.9/site-packages (from ipdb) (1.2.2)\n",
      "Requirement already satisfied: decorator in /opt/conda/lib/python3.9/site-packages (from ipdb) (4.4.2)\n",
      "Requirement already satisfied: backcall in /opt/conda/lib/python3.9/site-packages (from ipython>=7.31.1->ipdb) (0.2.0)\n",
      "Requirement already satisfied: jedi>=0.16 in /opt/conda/lib/python3.9/site-packages (from ipython>=7.31.1->ipdb) (0.18.1)\n",
      "Requirement already satisfied: matplotlib-inline in /opt/conda/lib/python3.9/site-packages (from ipython>=7.31.1->ipdb) (0.1.3)\n",
      "Requirement already satisfied: prompt-toolkit!=3.0.37,<3.1.0,>=3.0.30 in /opt/conda/lib/python3.9/site-packages (from ipython>=7.31.1->ipdb) (3.0.38)\n",
      "Requirement already satisfied: pexpect>4.3 in /opt/conda/lib/python3.9/site-packages (from ipython>=7.31.1->ipdb) (4.8.0)\n",
      "Requirement already satisfied: stack-data in /opt/conda/lib/python3.9/site-packages (from ipython>=7.31.1->ipdb) (0.6.2)\n",
      "Requirement already satisfied: typing-extensions in /opt/conda/lib/python3.9/site-packages (from ipython>=7.31.1->ipdb) (4.0.1)\n",
      "Requirement already satisfied: traitlets>=5 in /opt/conda/lib/python3.9/site-packages (from ipython>=7.31.1->ipdb) (5.1.1)\n",
      "Requirement already satisfied: pickleshare in /opt/conda/lib/python3.9/site-packages (from ipython>=7.31.1->ipdb) (0.7.5)\n",
      "Requirement already satisfied: pygments>=2.4.0 in /opt/conda/lib/python3.9/site-packages (from ipython>=7.31.1->ipdb) (2.10.0)\n",
      "Requirement already satisfied: parso<0.9.0,>=0.8.0 in /opt/conda/lib/python3.9/site-packages (from jedi>=0.16->ipython>=7.31.1->ipdb) (0.8.3)\n",
      "Requirement already satisfied: ptyprocess>=0.5 in /opt/conda/lib/python3.9/site-packages (from pexpect>4.3->ipython>=7.31.1->ipdb) (0.7.0)\n",
      "Requirement already satisfied: wcwidth in /opt/conda/lib/python3.9/site-packages (from prompt-toolkit!=3.0.37,<3.1.0,>=3.0.30->ipython>=7.31.1->ipdb) (0.2.5)\n",
      "Requirement already satisfied: pure-eval in /opt/conda/lib/python3.9/site-packages (from stack-data->ipython>=7.31.1->ipdb) (0.2.2)\n",
      "Requirement already satisfied: executing>=1.2.0 in /opt/conda/lib/python3.9/site-packages (from stack-data->ipython>=7.31.1->ipdb) (1.2.0)\n",
      "Requirement already satisfied: asttokens>=2.1.0 in /opt/conda/lib/python3.9/site-packages (from stack-data->ipython>=7.31.1->ipdb) (2.2.1)\n",
      "Requirement already satisfied: six in /opt/conda/lib/python3.9/site-packages (from asttokens>=2.1.0->stack-data->ipython>=7.31.1->ipdb) (1.16.0)\n",
      "\u001b[33mWARNING: Running pip as the 'root' user can result in broken permissions and conflicting behaviour with the system package manager. It is recommended to use a virtual environment instead: https://pip.pypa.io/warnings/venv\u001b[0m\n",
      "Note: you may need to restart the kernel to use updated packages.\n"
     ]
    }
   ],
   "source": [
    "pip install ipdb"
   ]
  },
  {
   "cell_type": "code",
   "execution_count": 20,
   "metadata": {
    "colab": {
     "base_uri": "https://localhost:8080/"
    },
    "id": "29E86H6jP1JA",
    "outputId": "762d2cf8-33a6-4545-bd4a-e3c3bea07b9e"
   },
   "outputs": [
    {
     "name": "stdout",
     "output_type": "stream",
     "text": [
      "Requirement already satisfied: tensorboardX in /opt/conda/lib/python3.9/site-packages (2.6)\n",
      "Requirement already satisfied: packaging in /opt/conda/lib/python3.9/site-packages (from tensorboardX) (21.3)\n",
      "Requirement already satisfied: protobuf<4,>=3.8.0 in /opt/conda/lib/python3.9/site-packages (from tensorboardX) (3.19.1)\n",
      "Requirement already satisfied: numpy in /opt/conda/lib/python3.9/site-packages (from tensorboardX) (1.21.4)\n",
      "Requirement already satisfied: pyparsing!=3.0.5,>=2.0.2 in /opt/conda/lib/python3.9/site-packages (from packaging->tensorboardX) (3.0.6)\n",
      "\u001b[33mWARNING: Running pip as the 'root' user can result in broken permissions and conflicting behaviour with the system package manager. It is recommended to use a virtual environment instead: https://pip.pypa.io/warnings/venv\u001b[0m\n",
      "Note: you may need to restart the kernel to use updated packages.\n"
     ]
    }
   ],
   "source": [
    "pip install tensorboardX"
   ]
  },
  {
   "cell_type": "code",
   "execution_count": 21,
   "metadata": {
    "scrolled": false
   },
   "outputs": [
    {
     "name": "stdout",
     "output_type": "stream",
     "text": [
      "?\n",
      "------------ Options -------------\n",
      "batchSize: 1\n",
      "beta1: 0.5\n",
      "checkpoints_dir: ./checkpoints\n",
      "continue_train: False\n",
      "data_type: 32\n",
      "dataroot: ./Data_preprocessing\n",
      "debug: False\n",
      "display_freq: 100\n",
      "display_winsize: 512\n",
      "fineSize: 512\n",
      "gpu_ids: [0]\n",
      "input_nc: 3\n",
      "isTrain: True\n",
      "label_nc: 20\n",
      "lambda_feat: 10.0\n",
      "loadSize: 512\n",
      "load_pretrain: ./checkpoints/label2city\n",
      "lr: 0.0002\n",
      "max_dataset_size: inf\n",
      "model: pix2pixHD\n",
      "nThreads: 2\n",
      "n_blocks_global: 4\n",
      "n_blocks_local: 3\n",
      "n_downsample_global: 4\n",
      "n_layers_D: 3\n",
      "n_local_enhancers: 1\n",
      "name: label2city\n",
      "ndf: 64\n",
      "netG: global\n",
      "ngf: 64\n",
      "niter: 100\n",
      "niter_decay: 100\n",
      "niter_fix_global: 0\n",
      "no_flip: False\n",
      "no_ganFeat_loss: False\n",
      "no_html: False\n",
      "no_lsgan: False\n",
      "no_vgg_loss: False\n",
      "norm: instance\n",
      "num_D: 2\n",
      "output_nc: 3\n",
      "phase: test\n",
      "pool_size: 0\n",
      "print_freq: 100\n",
      "resize_or_crop: scale_width\n",
      "save_epoch_freq: 10\n",
      "save_latest_freq: 1000\n",
      "serial_batches: False\n",
      "tf_log: False\n",
      "use_dropout: False\n",
      "verbose: False\n",
      "which_epoch: latest\n",
      "-------------- End ----------------\n",
      "CustomDatasetDataLoader\n",
      "dataset [AlignedDataset] was created\n",
      "Traceback (most recent call last):\n",
      "  File \"/aiffel/aiffel/a_project/viton/ACGPN_org/ACGPN_inference/test.py\", line 85, in <module>\n",
      "    data_loader = CreateDataLoader(opt)\n",
      "  File \"/aiffel/aiffel/a_project/viton/ACGPN_org/ACGPN_inference/data/data_loader.py\", line 6, in CreateDataLoader\n",
      "    data_loader.initialize(opt)\n",
      "  File \"/aiffel/aiffel/a_project/viton/ACGPN_org/ACGPN_inference/data/custom_dataset_data_loader.py\", line 20, in initialize\n",
      "    self.dataset = CreateDataset(opt)\n",
      "  File \"/aiffel/aiffel/a_project/viton/ACGPN_org/ACGPN_inference/data/custom_dataset_data_loader.py\", line 11, in CreateDataset\n",
      "    dataset.initialize(opt)\n",
      "  File \"/aiffel/aiffel/a_project/viton/ACGPN_org/ACGPN_inference/data/aligned_dataset.py\", line 20, in initialize\n",
      "    self.A_paths = sorted(make_dataset(self.dir_A))\n",
      "  File \"/aiffel/aiffel/a_project/viton/ACGPN_org/ACGPN_inference/data/image_folder.py\", line 17, in make_dataset\n",
      "    assert os.path.isdir(dir), '%s is not a valid directory' % dir\n",
      "AssertionError: ./Data_preprocessing/test_label is not a valid directory\n"
     ]
    }
   ],
   "source": [
    "# cd ..\n",
    "# 설치과정 건너뛰고 test 돌아가는지 실행시키기 위해서\n",
    "# 알 수 없는 이유로 리눅스 명령어가 먹히지 않으니, \n",
    "!python /aiffel/aiffel/a_project/viton/ACGPN_org/ACGPN_inference/test.py"
   ]
  },
  {
   "cell_type": "code",
   "execution_count": 22,
   "metadata": {},
   "outputs": [],
   "source": [
    "# !pwd"
   ]
  },
  {
   "cell_type": "code",
   "execution_count": 23,
   "metadata": {
    "colab": {
     "base_uri": "https://localhost:8080/"
    },
    "id": "A2GvfxgEDGtZ",
    "outputId": "8155d6ee-c864-4c69-bce1-eac16b006d75",
    "scrolled": true
   },
   "outputs": [],
   "source": [
    "# run viton/ACGPN_org/ACGPN_inference/test.py"
   ]
  },
  {
   "cell_type": "code",
   "execution_count": 24,
   "metadata": {},
   "outputs": [],
   "source": [
    "# cd \"..\""
   ]
  },
  {
   "cell_type": "code",
   "execution_count": 25,
   "metadata": {},
   "outputs": [],
   "source": [
    "# cd ACGPN_train/"
   ]
  },
  {
   "cell_type": "markdown",
   "metadata": {},
   "source": [
    "Train을 위해서는 train/models 폴더 안에  \n",
    "https://pytorch.org/vision/0.8/_modules/torchvision/models/vgg.html  \n",
    "에서 다운받은 vgg19.pth 가 존재하여야 합니다  (파일명은 다운로드 받은 상태 그대로 사용)"
   ]
  },
  {
   "cell_type": "code",
   "execution_count": 26,
   "metadata": {
    "scrolled": false
   },
   "outputs": [],
   "source": [
    "# 직접 cmd 창에서 실행시킬 것\n",
    "# run aiffel/aiffel/a_project/viton/ACGPN_org/ACGPN_train/train.py"
   ]
  },
  {
   "cell_type": "markdown",
   "metadata": {},
   "source": [
    "Train이 실제 시일이 걸리기 때문에, 구동이 잘됨을 확인 후 여기까지 노트북을 작성하겠습니다"
   ]
  },
  {
   "cell_type": "code",
   "execution_count": null,
   "metadata": {},
   "outputs": [],
   "source": []
  }
 ],
 "metadata": {
  "colab": {
   "provenance": []
  },
  "gpuClass": "standard",
  "kernelspec": {
   "display_name": "Python 3 (ipykernel)",
   "language": "python",
   "name": "python3"
  },
  "language_info": {
   "codemirror_mode": {
    "name": "ipython",
    "version": 3
   },
   "file_extension": ".py",
   "mimetype": "text/x-python",
   "name": "python",
   "nbconvert_exporter": "python",
   "pygments_lexer": "ipython3",
   "version": "3.9.7"
  }
 },
 "nbformat": 4,
 "nbformat_minor": 1
}
